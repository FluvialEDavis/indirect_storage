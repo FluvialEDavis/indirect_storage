{
 "cells": [
  {
   "cell_type": "markdown",
   "metadata": {},
   "source": [
    "# Dynamic indirect and direct storage for Elder Creek \n",
    "\n",
    "Import libraries. "
   ]
  },
  {
   "cell_type": "code",
   "execution_count": 1,
   "metadata": {
    "collapsed": true
   },
   "outputs": [],
   "source": [
    "import pandas as pd \n",
    "import numpy as np\n",
    "import matplotlib\n",
    "import matplotlib.pyplot as plt\n",
    "%matplotlib inline\n",
    "from scipy.optimize import curve_fit\n",
    "import glob\n",
    "import pickle\n",
    "import scipy\n",
    "import warnings\n",
    "warnings.filterwarnings('ignore')\n",
    "from sklearn.metrics import r2_score"
   ]
  },
  {
   "cell_type": "markdown",
   "metadata": {},
   "source": [
    "# Helper functions\n",
    "\n",
    "Define a few functions to help with simple interception modeling, computation of the catchment sensitivity function [$g(Q)$], and determining boundaries for binning samples of $\\Delta Q/\\Delta t$. "
   ]
  },
  {
   "cell_type": "code",
   "execution_count": 2,
   "metadata": {
    "collapsed": true
   },
   "outputs": [],
   "source": [
    "def intercept_rain(ppt, interception_depth):\n",
    "    freq = ppt.index.freq\n",
    "    idx = ppt.index.copy()\n",
    "    prcp = ppt.copy()\n",
    "    precip_pre = ppt.ppt.resample('D').mean()+1e-12\n",
    "    precip_post = precip_pre.apply(lambda x: np.max([0,x-interception_depth])) \n",
    "    frac_int = (precip_pre.sum() - precip_post.sum())/precip_pre.sum()\n",
    "    print('Fraction intercepted = %.2f'%frac_int)\n",
    "    rng = pd.date_range(precip_post.index[0], precip_post.index[-1], freq=freq)\n",
    "    daily_multiplication_factor = precip_post/precip_pre\n",
    "    daily_multiplication_factor = pd.DataFrame({'factor':daily_multiplication_factor.resample(freq,how='ffill').tolist()},index=rng)\n",
    "    ppt.ppt = daily_multiplication_factor.factor*prcp.ppt\n",
    "    return ppt\n",
    "\n",
    "def g(q,p):\n",
    "    if np.size(np.array(q)) == 1: return np.exp(np.sum([p[i]*np.log(q)**(len(p)-i-1) for i in range(len(p))]))\n",
    "    return [np.exp(np.sum([p[i]*np.log(qq)**(len(p)-i-1) for i in range(len(p))])) for qq in np.array(q)]\n",
    "\n",
    "def KirchnerBinning(df, min_per_bin = 10, loud=False):\n",
    "    df = df.sort('q',ascending=False)\n",
    "    \n",
    "    logQ = np.array(np.log(df.q))\n",
    "    \n",
    "    logRange = np.max(logQ) - np.min(logQ)\n",
    "    minBinSize = logRange*.01\n",
    "  \n",
    "    binBoundaries = [0]\n",
    "    for i in range(1,len(df)):    \n",
    "        if abs(logQ[i] - logQ[binBoundaries[-1]]) < minBinSize: \n",
    "            if loud: print('Bin too small')\n",
    "            continue\n",
    "            \n",
    "        if abs(i-binBoundaries[-1]) < min_per_bin:\n",
    "            if loud: print('Not enough data points')\n",
    "            continue  \n",
    "            \n",
    "        curr = df.dq[binBoundaries[-1]:i]\n",
    "        if np.std(-curr)/np.sqrt(abs(i-binBoundaries[-1])) > np.mean(-curr)/2: \n",
    "            if loud: print('Bin too heterogeneous')\n",
    "            continue    \n",
    "        \n",
    "        binBoundaries.append(i)\n",
    "    return binBoundaries"
   ]
  },
  {
   "cell_type": "code",
   "execution_count": 3,
   "metadata": {
    "collapsed": true
   },
   "outputs": [],
   "source": [
    "ppt = pickle.load(open('./data/elder_ppt.p', 'rb'))\n",
    "pet = pickle.load(open('./data/elder_pet.p','rb'))\n",
    "df = pickle.load(open('./data/df_elder.p', 'rb'))"
   ]
  },
  {
   "cell_type": "markdown",
   "metadata": {},
   "source": [
    "# Recession analysis\n",
    "\n",
    "Here, we extract hydrograph recession segments to estimate $dQ/dt$ during periods when $P, E \\ll Q$. "
   ]
  },
  {
   "cell_type": "code",
   "execution_count": 4,
   "metadata": {},
   "outputs": [
    {
     "data": {
      "image/png": "[encoded data removed]",
      "text/plain": [
       "<matplotlib.figure.Figure at 0x104473d10>"
      ]
     },
     "metadata": {},
     "output_type": "display_data"
    }
   ],
   "source": [
    "# Load rainfall and flow data\n",
    "ppt = pickle.load(open('./data/elder_ppt.p', 'rb'))\n",
    "df = pickle.load(open('./data/df_elder.p', 'rb'))\n",
    "\n",
    "# Lag in days after neglible rainfall before analysis starts\n",
    "rainfall_lag = 1.0\n",
    "mean_fraction = 0.001\n",
    "\n",
    "# Keep tabs on rainfall total of previous rainfall_lag days\n",
    "rainfall_lag *= (24*60*60.)\n",
    "\n",
    "# Resample to daily \n",
    "freq = '1D'\n",
    "ppt = ppt.resample(freq).mean()\n",
    "df = df.resample(freq).mean()\n",
    "x = df.index.freq\n",
    "num_secs = x.delta.days*(60*60*24) + x.delta.seconds\n",
    "dt = num_secs/(24.*60*60)\n",
    "lag = int(rainfall_lag/num_secs)\n",
    "\n",
    "# Only perform analysis during winter months when ET is negligible\n",
    "idx_winter = (df.index.month>=11)|(df.index.month<4)\n",
    "meanQ = np.mean(df.q)\n",
    "\n",
    "# Lists to store q and its derivative\n",
    "dqs = []\n",
    "qs = []\n",
    "years = list(set(ppt.index.year))\n",
    "years.sort()\n",
    "for year in years:\n",
    "    # Do not loop beyond the 2017 water year, which starts in 2016\n",
    "    if year==2017:\n",
    "        continue\n",
    "        \n",
    "    # Only use winter month recessions\n",
    "    startdate = '11-' + str(year)\n",
    "    enddate = '3-' + str(year+1)\n",
    "    rain = np.array(ppt.ppt.loc[startdate:enddate])\n",
    "    runoff = np.array(df.q.loc[startdate:enddate])\n",
    "    i = lag\n",
    "    while i<len(rain):\n",
    "        # Too much rain\n",
    "        if np.sum(dt*rain[i-lag:i+1]) > .002:\n",
    "            i+=1\n",
    "            continue\n",
    "\n",
    "        # We have found period of negligible rainfall \n",
    "        # Find index of next day of rainfall \n",
    "        idx_next_rain = np.where(rain[i+1:]>0)[0]\n",
    "        if len(idx_next_rain)>0:\n",
    "            idx_next_rain = idx_next_rain[0] + (i+1)\n",
    "        else: \n",
    "            # no more rain for this particular year\n",
    "            break\n",
    "        \n",
    "        # too short of a rainless period for analysis \n",
    "        if idx_next_rain==i+1: \n",
    "            i += 2\n",
    "            continue\n",
    "        \n",
    "        # get dq/dt going forward, not including the next day of rainfall\n",
    "        for j in range(i, idx_next_rain):\n",
    "            q_diffs = runoff[j] - runoff[j+1:idx_next_rain]\n",
    "            idx_end = np.where(q_diffs>mean_fraction*meanQ)[0]\n",
    "            if len(idx_end)>0:\n",
    "                idx_end = idx_end[0]\n",
    "                qs.append((runoff[j] + runoff[j+idx_end+1])/2)\n",
    "                dqs.append((runoff[j+idx_end+1]-runoff[j])/(dt*(idx_end+1)))\n",
    "            else:\n",
    "                i = idx_next_rain + lag + 1\n",
    "                break \n",
    "\n",
    "        i = idx_next_rain + lag + 1\n",
    "        \n",
    "qs = np.array(qs)\n",
    "dqs = np.array(dqs)\n",
    "df_kirchner = pd.DataFrame({'q':qs, 'dq':dqs})\n",
    "df_kirchner = df_kirchner.sort('q',ascending=False)\n",
    "binBoundaries = KirchnerBinning(df_kirchner, min_per_bin=7)\n",
    "qs = [np.mean(df_kirchner.q[binBoundaries[i]:binBoundaries[i+1]]) for i in range(len(binBoundaries)-1)]\n",
    "dqs =   np.array([np.mean(df_kirchner.dq[binBoundaries[i]:binBoundaries[i+1]]) for i in range(len(binBoundaries)-1)])\n",
    "sigmas = np.array([np.std(np.log(-df_kirchner.dq[binBoundaries[i]:binBoundaries[i+1]].loc[df_kirchner.dq[binBoundaries[i]:binBoundaries[i+1]]<0]))/np.sqrt(binBoundaries[i+1]-binBoundaries[i]) for i in range(len(binBoundaries)-1)]) + 1e-12\n",
    "p = np.polyfit(x=np.log(qs), y=np.log(-dqs), deg=2, w=1/sigmas**2)\n",
    "f = plt.figure(figsize=(4,3))\n",
    "plt.errorbar(np.log(qs), np.log(-dqs), yerr = sigmas,fmt='o',capsize=2,**{'ms':2, 'mfc':'k','zorder':1})\n",
    "x = np.log(qs)\n",
    "coefficient_of_dermination = r2_score(np.log(-dqs), p[2] + p[1]*x + p[0]*x**2)\n",
    "plt.plot(x, p[2] + p[1]*x + p[0]*x**2,lw=2, label='$\\mathrm{R^2}$ = %.2f'%coefficient_of_dermination,zorder=10)\n",
    "p[1] = p[1]-1\n",
    "plt.xlabel('log(Q)')\n",
    "leg = plt.legend(fontsize=10,loc='best')\n",
    "leg.set_frame_on(False)\n",
    "plt.ylim([-12,-5])\n",
    "plt.xlim([-9.1,-4])\n",
    "plt.title('Elder Creek',fontsize=12)\n",
    "ax = f.get_axes()[0]\n",
    "plt.ylabel(r'$\\log \\left( -\\mathrm{\\frac{dQ}{dt}}\\right)$')\n",
    "plt.tight_layout()\n",
    "plt.savefig('./figures/dqdt_vs_q_elder.pdf')"
   ]
  },
  {
   "cell_type": "code",
   "execution_count": 5,
   "metadata": {},
   "outputs": [
    {
     "name": "stdout",
     "output_type": "stream",
     "text": [
      "Fraction intercepted = 0.16\n"
     ]
    }
   ],
   "source": [
    "# Reload rainfall and PET\n",
    "ppt = pickle.load(open('./data/elder_ppt.p', 'rb'))\n",
    "pet = pickle.load(open('./data/elder_pet.p','rb'))\n",
    "ppt = ppt.resample(freq).mean()\n",
    "pet = pet.resample(freq).mean()\n",
    "\n",
    "# Dumb interception model; 4mm/day at Elder Creek\n",
    "interception_depth = 0.004\n",
    "ppt = intercept_rain(ppt, interception_depth)\n",
    "\n",
    "# Now use sensitivity function to compute dynamic storage time series for each year\n",
    "years = list(set(df.index.year))\n",
    "years.sort()\n",
    "df['direct_storage'] = 0 \n",
    "for year in years: \n",
    "    if year==2017:\n",
    "        continue\n",
    "    startDate = '10-01-' + str(year)\n",
    "    endDate = '9-30-' + str(year+1)\n",
    "    thisYear = df.loc[startDate:endDate]\n",
    "    if len(thisYear)<100:\n",
    "        continue\n",
    "    # cumulative integral of dynamic storage for this water year, assuming we start at 0        \n",
    "    qvar = thisYear.q.tolist()\n",
    "    direct_S = [0]\n",
    "    for i in range(1,len(qvar)):\n",
    "        qi = qvar[i]\n",
    "        qi1 = qvar[i-1]\n",
    "        qintegrate = np.linspace(qi1, qi, 50)\n",
    "        direct_S.append(direct_S[i-1] + np.trapz([1/gg for gg in g(qintegrate,p)],qintegrate))\n",
    "        if direct_S[i] < 0: \n",
    "            direct_S[i] = 0\n",
    "    df['direct_storage'].loc[startDate:endDate] = direct_S"
   ]
  },
  {
   "cell_type": "code",
   "execution_count": 11,
   "metadata": {
    "collapsed": true,
    "scrolled": false
   },
   "outputs": [],
   "source": [
    "df['indirect_storage'] = 0\n",
    "df['total'] = 0\n",
    "annualmax_indirect = []\n",
    "annualmax_direct = []\n",
    "maxyears = []\n",
    "for year in years[:-1]: \n",
    "    startDate = '10-1-' + str(year)\n",
    "    endDate = '6-1-' + str(year+1)\n",
    "    thisYear = df.loc[startDate:endDate]\n",
    "    idx = ppt.ppt.loc[startDate:endDate].index\n",
    "    petYear = np.array(pet.pet.loc[startDate:endDate])\n",
    "    direct_year = np.array(df['direct_storage'].loc[startDate:endDate].tolist())\n",
    "    cumQ = np.array(dt*thisYear.q.cumsum())\n",
    "    rain = np.array(ppt.ppt.loc[startDate:endDate].ffill())\n",
    "    cumRain = np.array(dt*ppt.ppt.loc[startDate:endDate].ffill().cumsum())\n",
    "    indirect_year = np.zeros(np.shape(cumRain))\n",
    "    \n",
    "    for i in range(1,len(indirect_year)):\n",
    "        iyt = cumRain[i] - cumQ[i] - np.cumsum(petYear*dt)[i] - direct_year[i]\n",
    "        if iyt<0:\n",
    "            petYear[i] = 0\n",
    "        indirect_year[i] = cumRain[i] - cumQ[i] - np.cumsum(petYear*dt)[i] - direct_year[i]\n",
    "    total = cumRain - cumQ - np.cumsum(petYear)*dt\n",
    "    indirect_year_df = pd.DataFrame(indirect_year, index=idx)\n",
    "    indirect_year_df = indirect_year_df.resample('D').mean()\n",
    "    direct_year_df = pd.DataFrame(direct_year, index=idx)\n",
    "    direct_year_df = direct_year_df.resample('D').mean()\n",
    "    maxyears.append(year+1)\n",
    "    df['indirect_storage'].loc[startDate:endDate] = indirect_year\n",
    "    df['total'].loc[startDate:endDate] = total\n",
    "    annualmax_indirect.append(np.max(indirect_year))\n",
    "    annualmax_direct.append(np.max(direct_year))\n",
    " \n",
    "annualmax_indirect = 1000*np.array(annualmax_indirect)\n",
    "annualmax_direct = 1000*np.array(annualmax_direct)"
   ]
  },
  {
   "cell_type": "code",
   "execution_count": 12,
   "metadata": {},
   "outputs": [
    {
     "data": {
      "image/png": "[encoded data removed]",
      "text/plain": [
       "<matplotlib.figure.Figure at 0x114d6a690>"
      ]
     },
     "metadata": {},
     "output_type": "display_data"
    }
   ],
   "source": [
    "start_date = '10-2015'\n",
    "end_date = '4-2016'\n",
    "uselog = True\n",
    "f, (ax1) = plt.subplots(1,figsize=(6.5,4))\n",
    "ax1.plot(df.indirect_storage*1000, '--', label='Indirect storage ($\\mathrm{S}_\\mathrm{i}$)',linewidth=1.5)\n",
    "ax1.plot(df.direct_storage*1000, label='Direct storage ($\\mathrm{S}_\\mathrm{d}$)',linewidth=1.5)\n",
    "ax1.plot(df.total*1000, label='Total ($\\mathrm{S}_\\mathrm{T}$)',linewidth=1, alpha=0.3)\n",
    "\n",
    "ax1.set_xlim([start_date,end_date])\n",
    "if uselog:\n",
    "    ax1.set_yscale('log')\n",
    "    ax1.set_ylim([1e-1,1e4])\n",
    "    ax1.yaxis.set_major_formatter(matplotlib.ticker.FormatStrFormatter(\"%.1f\"))\n",
    "    ax1.yaxis.grid(which=\"minor\", color='k', linestyle='-', linewidth=0.5, alpha=0.1)\n",
    "else:\n",
    "    ax1.set_ylim([0,2000])\n",
    "    ax1.grid(**{'ls':'--', 'lw':0.3})\n",
    "\n",
    "\n",
    "ax1.set_title('Elder Creek')\n",
    "ax1.plot(ppt.ppt.loc[start_date:end_date].cumsum()*dt*1000,':', label='$\\sum P$', lw=1.5)\n",
    "ax1.plot(df.q.loc[start_date:end_date].cumsum()*dt*1000,'-.', label='$\\sum Q$', lw=1.5)\n",
    "\n",
    "\n",
    "leg = ax1.legend(loc='upper left', ncol=2)\n",
    "leg.set_frame_on(False)\n",
    "ax1.set_ylabel('[mm]')\n",
    "f.autofmt_xdate()\n",
    "plt.tight_layout()\n",
    "plt.savefig('./figures/elder_' + start_date + '_' + end_date + '.pdf')"
   ]
  },
  {
   "cell_type": "code",
   "execution_count": 13,
   "metadata": {},
   "outputs": [
    {
     "name": "stdout",
     "output_type": "stream",
     "text": [
      "All winter months: indirect storage mean = 274.83 pm 134.25, cv = 0.49; direct mean = 58.14, cv = 0.80\n"
     ]
    }
   ],
   "source": [
    "idx = (df.index.month>=12)|(df.index.month<=2)\n",
    "ismean = 1000*df.indirect_storage.loc[idx].mean()\n",
    "isstd = np.std(1000*df.indirect_storage.loc[idx])\n",
    "iscv = isstd/ismean\n",
    "dsmean = 1000*df.direct_storage.loc[idx].mean()\n",
    "dsstd = np.std(1000*df.direct_storage.loc[idx])\n",
    "dscv = dsstd/dsmean\n",
    "printstr = 'All winter months: indirect storage mean = %.2f pm %.2f, cv = %.2f; direct mean = %.2f, cv = %.2f'%(ismean, isstd, iscv, dsmean, dscv)\n",
    "print(printstr)"
   ]
  },
  {
   "cell_type": "code",
   "execution_count": 14,
   "metadata": {},
   "outputs": [
    {
     "data": {
      "image/png": "[encoded data removed]",
      "text/plain": [
       "<matplotlib.figure.Figure at 0x1199d27d0>"
      ]
     },
     "metadata": {},
     "output_type": "display_data"
    }
   ],
   "source": [
    "d = pd.DataFrame({'Annual maximum':annualmax_indirect[:-1], 'Year':maxyears[:-1]})\n",
    "f = plt.figure(figsize=(5,4.5))\n",
    "themean = 10*round(d['Annual maximum'].mean()/10.0)\n",
    "upper = 10*round(np.std(d['Annual maximum'])/10.0)+themean\n",
    "lower = -10*round(np.std(d['Annual maximum'])/10.0)+themean\n",
    "legstr = r'Mean ($\\mu - \\sigma$, $\\mu+\\sigma$) $\\approx$'\n",
    "legstr +=  ' %.0f (%.0f, %.0f)'%(themean,lower,upper)\n",
    "plt.plot([-2,12],[themean,themean],label=legstr,c='C1',lw=2)\n",
    "h = plt.bar(xrange(len(d.Year)), d['Annual maximum'], width=0.2)\n",
    "plt.subplots_adjust(bottom=0.3)\n",
    "xticks_pos = [0.5*patch.get_width() + patch.get_xy()[0] for patch in h]\n",
    "plt.xticks(xticks_pos, maxyears,  ha='right', rotation=45)\n",
    "\n",
    "plt.ylabel('mm')\n",
    "leg = plt.legend(loc='upper-left')\n",
    "leg.set_frame_on(False)\n",
    "plt.axhspan(lower,upper,color='k',alpha=0.1)\n",
    "\n",
    "plt.xlim([-.6,7.6])\n",
    "plt.ylim([0,600])\n",
    "plt.title('Indirect storage max by water year (Elder Creek)')\n",
    "plt.xlabel('Water year')\n",
    "\n",
    "plt.savefig('./figures/elder_maxes.pdf')"
   ]
  },
  {
   "cell_type": "code",
   "execution_count": null,
   "metadata": {
    "collapsed": true
   },
   "outputs": [],
   "source": []
  }
 ],
 "metadata": {
  "anaconda-cloud": {},
  "kernelspec": {
   "display_name": "Python [conda env:py2k_model]",
   "language": "python",
   "name": "conda-env-py2k_model-py"
  },
  "language_info": {
   "codemirror_mode": {
    "name": "ipython",
    "version": 2
   },
   "file_extension": ".py",
   "mimetype": "text/x-python",
   "name": "python",
   "nbconvert_exporter": "python",
   "pygments_lexer": "ipython2",
   "version": "2.7.12"
  }
 },
 "nbformat": 4,
 "nbformat_minor": 1
}
